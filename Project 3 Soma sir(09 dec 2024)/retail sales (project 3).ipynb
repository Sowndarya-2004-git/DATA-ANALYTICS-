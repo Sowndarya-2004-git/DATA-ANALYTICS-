{
  "nbformat": 4,
  "nbformat_minor": 0,
  "metadata": {
    "colab": {
      "provenance": []
    },
    "kernelspec": {
      "name": "python3",
      "display_name": "Python 3"
    },
    "language_info": {
      "name": "python"
    }
  },
  "cells": [
    {
      "cell_type": "markdown",
      "source": [
        "#**1. Data Loading and Inspection**"
      ],
      "metadata": {
        "id": "4a4oWVLRRB5x"
      }
    },
    {
      "cell_type": "markdown",
      "source": [
        "**Load the dataset into a Pandas DataFrame.**"
      ],
      "metadata": {
        "id": "hL10SLapRTPx"
      }
    },
    {
      "cell_type": "code",
      "source": [
        "import pandas as pd\n",
        "\n",
        "# Load the dataset into a Pandas DataFrame\n",
        "file_path = \"retail_sales_dataset.csv\"\n",
        "df = pd.read_csv(file_path)\n",
        "\n",
        "# Display the first few rows of the dataset\n",
        "print(df.head())\n"
      ],
      "metadata": {
        "colab": {
          "base_uri": "https://localhost:8080/"
        },
        "id": "ydb2xDVzRoqY",
        "outputId": "362a15d5-c223-4443-8c70-2586952f1cfe"
      },
      "execution_count": 1,
      "outputs": [
        {
          "output_type": "stream",
          "name": "stdout",
          "text": [
            "   Transaction ID        Date Customer ID  Gender  Age Product Category  \\\n",
            "0               1  2023-11-24     CUST001    Male   34           Beauty   \n",
            "1               2  2023-02-27     CUST002  Female   26         Clothing   \n",
            "2               3  2023-01-13     CUST003    Male   50      Electronics   \n",
            "3               4  2023-05-21     CUST004    Male   37         Clothing   \n",
            "4               5  2023-05-06     CUST005    Male   30           Beauty   \n",
            "\n",
            "   Quantity  Price per Unit  Total Amount  \n",
            "0         3              50           150  \n",
            "1         2             500          1000  \n",
            "2         1              30            30  \n",
            "3         1             500           500  \n",
            "4         2              50           100  \n"
          ]
        }
      ]
    },
    {
      "cell_type": "markdown",
      "source": [
        "**Display the first 10 rows of the dataset**"
      ],
      "metadata": {
        "id": "YbYSKRkqS9A-"
      }
    },
    {
      "cell_type": "code",
      "source": [
        "# Display the first 10 rows of the dataset\n",
        "print(df.head(10))"
      ],
      "metadata": {
        "colab": {
          "base_uri": "https://localhost:8080/"
        },
        "id": "S0CWNLIFTC50",
        "outputId": "ce2b0614-c9ea-46cc-e0a5-46104aec2a54"
      },
      "execution_count": 2,
      "outputs": [
        {
          "output_type": "stream",
          "name": "stdout",
          "text": [
            "   Transaction ID        Date Customer ID  Gender  Age Product Category  \\\n",
            "0               1  2023-11-24     CUST001    Male   34           Beauty   \n",
            "1               2  2023-02-27     CUST002  Female   26         Clothing   \n",
            "2               3  2023-01-13     CUST003    Male   50      Electronics   \n",
            "3               4  2023-05-21     CUST004    Male   37         Clothing   \n",
            "4               5  2023-05-06     CUST005    Male   30           Beauty   \n",
            "5               6  2023-04-25     CUST006  Female   45           Beauty   \n",
            "6               7  2023-03-13     CUST007    Male   46         Clothing   \n",
            "7               8  2023-02-22     CUST008    Male   30      Electronics   \n",
            "8               9  2023-12-13     CUST009    Male   63      Electronics   \n",
            "9              10  2023-10-07     CUST010  Female   52         Clothing   \n",
            "\n",
            "   Quantity  Price per Unit  Total Amount  \n",
            "0         3              50           150  \n",
            "1         2             500          1000  \n",
            "2         1              30            30  \n",
            "3         1             500           500  \n",
            "4         2              50           100  \n",
            "5         1              30            30  \n",
            "6         2              25            50  \n",
            "7         4              25           100  \n",
            "8         2             300           600  \n",
            "9         4              50           200  \n"
          ]
        }
      ]
    },
    {
      "cell_type": "markdown",
      "source": [
        "**Print the column names and their respective data types.**"
      ],
      "metadata": {
        "id": "X2p2N6KnTNDa"
      }
    },
    {
      "cell_type": "code",
      "source": [
        "# Print the column names and their respective data types\n",
        "print(df.dtypes)"
      ],
      "metadata": {
        "colab": {
          "base_uri": "https://localhost:8080/"
        },
        "id": "fmfmhlnpTUtd",
        "outputId": "11359eff-22aa-4019-db42-4a11c0e97738"
      },
      "execution_count": 3,
      "outputs": [
        {
          "output_type": "stream",
          "name": "stdout",
          "text": [
            "Transaction ID       int64\n",
            "Date                object\n",
            "Customer ID         object\n",
            "Gender              object\n",
            "Age                  int64\n",
            "Product Category    object\n",
            "Quantity             int64\n",
            "Price per Unit       int64\n",
            "Total Amount         int64\n",
            "dtype: object\n"
          ]
        }
      ]
    },
    {
      "cell_type": "markdown",
      "source": [
        "**Check for missing values and duplicates in the dataset. How would you handle them**"
      ],
      "metadata": {
        "id": "Tf-NgBV2TZ7a"
      }
    },
    {
      "cell_type": "code",
      "source": [
        "print(\"Missing Values:\\n\", df.isnull().sum(), \"\\nDuplicates:\", df.duplicated().sum())"
      ],
      "metadata": {
        "colab": {
          "base_uri": "https://localhost:8080/"
        },
        "id": "hzh1-XORTk21",
        "outputId": "13117812-dae4-4a2d-e757-77ce286e94a1"
      },
      "execution_count": 4,
      "outputs": [
        {
          "output_type": "stream",
          "name": "stdout",
          "text": [
            "Missing Values:\n",
            " Transaction ID      0\n",
            "Date                0\n",
            "Customer ID         0\n",
            "Gender              0\n",
            "Age                 0\n",
            "Product Category    0\n",
            "Quantity            0\n",
            "Price per Unit      0\n",
            "Total Amount        0\n",
            "dtype: int64 \n",
            "Duplicates: 0\n"
          ]
        }
      ]
    },
    {
      "cell_type": "markdown",
      "source": [
        "#**2.Data Cleaning**"
      ],
      "metadata": {
        "id": "sWrlz80NTvrO"
      }
    },
    {
      "cell_type": "markdown",
      "source": [
        "**Removing duplicates**"
      ],
      "metadata": {
        "id": "yk7aD98hUCL6"
      }
    },
    {
      "cell_type": "code",
      "source": [
        "df = df.drop_duplicates()"
      ],
      "metadata": {
        "id": "3VVUDUb4UBuO"
      },
      "execution_count": 6,
      "outputs": []
    },
    {
      "cell_type": "markdown",
      "source": [
        "**Handling missing values**"
      ],
      "metadata": {
        "id": "4A6wDhvSUxR0"
      }
    },
    {
      "cell_type": "markdown",
      "source": [
        "**Option 1: Dropping Missing Values**"
      ],
      "metadata": {
        "id": "Rn0Ze0ZTVueN"
      }
    },
    {
      "cell_type": "code",
      "source": [
        "# Drop rows with missing values\n",
        "df = df.dropna()\n"
      ],
      "metadata": {
        "id": "vPUq8pj4VeHN"
      },
      "execution_count": 7,
      "outputs": []
    },
    {
      "cell_type": "markdown",
      "source": [
        "**Option 2: Imputing Missing Values**"
      ],
      "metadata": {
        "id": "DFvI56pTVzEB"
      }
    },
    {
      "cell_type": "code",
      "source": [
        "df = df.fillna(0)\n"
      ],
      "metadata": {
        "id": "m0yiDkb6V5VL"
      },
      "execution_count": 8,
      "outputs": []
    },
    {
      "cell_type": "markdown",
      "source": [
        "**Rename the columns to more meaningful names**"
      ],
      "metadata": {
        "id": "QOIL_qz4V9Fp"
      }
    },
    {
      "cell_type": "code",
      "source": [
        "# Display the current column names\n",
        "print(\"Current Column Names:\", df.columns)\n",
        "# Rename the columns (replace with meaningful names based on your dataset)\n",
        "new_column_names = {\n",
        "    'OldColumnName1': 'NewColumnName1',  # Replace with actual column names\n",
        "    'OldColumnName2': 'NewColumnName2',\n",
        "    # Add more mappings here as needed\n",
        "}\n",
        "\n",
        "# Rename the columns in the DataFrame\n",
        "df = df.rename(columns=new_column_names)\n",
        "\n",
        "# Display updated column names\n",
        "print(\"Updated Column Names:\", df.columns)"
      ],
      "metadata": {
        "colab": {
          "base_uri": "https://localhost:8080/"
        },
        "id": "QtSV_PEiWJmo",
        "outputId": "12801940-3fa5-4eaa-fce5-26e94f30cade"
      },
      "execution_count": 10,
      "outputs": [
        {
          "output_type": "stream",
          "name": "stdout",
          "text": [
            "Current Column Names: Index(['Transaction ID', 'Date', 'Customer ID', 'Gender', 'Age',\n",
            "       'Product Category', 'Quantity', 'Price per Unit', 'Total Amount'],\n",
            "      dtype='object')\n",
            "Updated Column Names: Index(['Transaction ID', 'Date', 'Customer ID', 'Gender', 'Age',\n",
            "       'Product Category', 'Quantity', 'Price per Unit', 'Total Amount'],\n",
            "      dtype='object')\n"
          ]
        }
      ]
    },
    {
      "cell_type": "markdown",
      "source": [
        "#**3. Exploratory Data Analysis (EDA)**"
      ],
      "metadata": {
        "id": "FXDfRtMrYvci"
      }
    },
    {
      "cell_type": "markdown",
      "source": [
        "**Plot the distribution of the following discrete features:**\n",
        "\n",
        "o **Quantity**\n",
        "\n",
        "o **Category**\n",
        "\n",
        "o  **Region**"
      ],
      "metadata": {
        "id": "Az1_kjdNY3dY"
      }
    },
    {
      "cell_type": "code",
      "source": [
        "import pandas as pd\n",
        "import matplotlib.pyplot as plt\n",
        "import seaborn as sns\n",
        "\n",
        "# Load the dataset\n",
        "file_path = \"retail_sales_dataset.csv\"\n",
        "df = pd.read_csv(file_path)\n",
        "\n",
        "# Plot the distribution of 'Quantity'\n",
        "plt.figure(figsize=(8, 4))\n",
        "sns.histplot(df['Quantity'], kde=False, bins=20, color='blue')\n",
        "plt.title('Distribution of Quantity')\n",
        "plt.xlabel('Quantity')\n",
        "plt.ylabel('Frequency')\n",
        "plt.show()\n",
        "\n",
        "# Plot the distribution of 'Product Category'\n",
        "plt.figure(figsize=(8, 4))\n",
        "sns.countplot(x='Product Category', data=df, palette='Set2')\n",
        "plt.title('Distribution of Product Category')\n",
        "plt.xlabel('Product Category')\n",
        "plt.ylabel('Count')\n",
        "plt.xticks(rotation=45)\n",
        "plt.show()\n",
        "\n",
        "# Plot the distribution of 'Gender' (if desired, as an example)\n",
        "plt.figure(figsize=(8, 4))\n",
        "sns.countplot(x='Gender', data=df, palette='Set3')\n",
        "plt.title('Distribution of Gender')\n",
        "plt.xlabel('Gender')\n",
        "plt.ylabel('Count')\n",
        "plt.show()\n"
      ],
      "metadata": {
        "colab": {
          "base_uri": "https://localhost:8080/",
          "height": 1000
        },
        "id": "g6BqlxRkaAZ9",
        "outputId": "84438943-bbb5-4469-cc6f-4d7a50bf37c0"
      },
      "execution_count": 24,
      "outputs": [
        {
          "output_type": "display_data",
          "data": {
            "text/plain": [
              "<Figure size 800x400 with 1 Axes>"
            ],
            "image/png": "[encoded data removed]"
          },
          "metadata": {}
        },
        {
          "output_type": "stream",
          "name": "stderr",
          "text": [
            "<ipython-input-24-07d9730a4f97>:19: FutureWarning: \n",
            "\n",
            "Passing `palette` without assigning `hue` is deprecated and will be removed in v0.14.0. Assign the `x` variable to `hue` and set `legend=False` for the same effect.\n",
            "\n",
            "  sns.countplot(x='Product Category', data=df, palette='Set2')\n"
          ]
        },
        {
          "output_type": "display_data",
          "data": {
            "text/plain": [
              "<Figure size 800x400 with 1 Axes>"
            ],
            "image/png": "[encoded data removed]"
          },
          "metadata": {}
        },
        {
          "output_type": "stream",
          "name": "stderr",
          "text": [
            "<ipython-input-24-07d9730a4f97>:28: FutureWarning: \n",
            "\n",
            "Passing `palette` without assigning `hue` is deprecated and will be removed in v0.14.0. Assign the `x` variable to `hue` and set `legend=False` for the same effect.\n",
            "\n",
            "  sns.countplot(x='Gender', data=df, palette='Set3')\n"
          ]
        },
        {
          "output_type": "display_data",
          "data": {
            "text/plain": [
              "<Figure size 800x400 with 1 Axes>"
            ],
            "image/png": "[encoded data removed]"
          },
          "metadata": {}
        }
      ]
    },
    {
      "cell_type": "markdown",
      "source": [
        "**Identify the most frequently purchased product category.**"
      ],
      "metadata": {
        "id": "l-p6cV9kcbyB"
      }
    },
    {
      "cell_type": "code",
      "source": [
        "# Count the occurrences of each product category\n",
        "category_counts = df['Product Category'].value_counts()\n",
        "\n",
        "# Display the most frequently purchased product category\n",
        "most_frequent_category = category_counts.idxmax()  # Gets the most frequent category\n",
        "most_frequent_count = category_counts.max()  # Gets the count of the most frequent category\n",
        "\n",
        "print(f\"The most frequently purchased product category is: {most_frequent_category}\")\n",
        "print(f\"Number of purchases: {most_frequent_count}\")"
      ],
      "metadata": {
        "colab": {
          "base_uri": "https://localhost:8080/"
        },
        "id": "wJD31gHtciXf",
        "outputId": "3d7af08b-9ed2-439e-e939-395dca851730"
      },
      "execution_count": 25,
      "outputs": [
        {
          "output_type": "stream",
          "name": "stdout",
          "text": [
            "The most frequently purchased product category is: Clothing\n",
            "Number of purchases: 351\n"
          ]
        }
      ]
    },
    {
      "cell_type": "markdown",
      "source": [
        "**Find the region contributing the most to sales.**"
      ],
      "metadata": {
        "id": "m7kBM5sEcv0S"
      }
    },
    {
      "cell_type": "code",
      "source": [
        "# Calculate the total sales (Total Amount) for each category\n",
        "category_sales = df.groupby('Product Category')['Total Amount'].sum()\n",
        "\n",
        "# Find the category with the maximum sales\n",
        "top_category = category_sales.idxmax()  # Category with most sales\n",
        "top_category_sales = category_sales.max()  # Total sales for this category\n",
        "\n",
        "print(f\"The product category contributing the most to sales is: {top_category}\")\n",
        "print(f\"Total sales from this category: {top_category_sales}\")\n"
      ],
      "metadata": {
        "colab": {
          "base_uri": "https://localhost:8080/"
        },
        "id": "lZtYfudDc85a",
        "outputId": "d6c2d96e-b8c0-430a-bfad-dc0061d95ff2"
      },
      "execution_count": 27,
      "outputs": [
        {
          "output_type": "stream",
          "name": "stdout",
          "text": [
            "The product category contributing the most to sales is: Electronics\n",
            "Total sales from this category: 156905\n"
          ]
        }
      ]
    },
    {
      "cell_type": "markdown",
      "source": [
        "#**4. Timestamp Transformation**"
      ],
      "metadata": {
        "id": "uZ3PWwiMdHCT"
      }
    },
    {
      "cell_type": "markdown",
      "source": [
        "**Convert the Order Date column to a datetime format.**"
      ],
      "metadata": {
        "id": "oQPHYQxrdNgC"
      }
    },
    {
      "cell_type": "code",
      "source": [
        "# Convert the 'Order Date' column to datetime format (adjust the column name if needed)\n",
        "df['Date'] = pd.to_datetime(df['Date'])\n",
        "\n",
        "# Verify the conversion by checking the data types\n",
        "print(df['Date'].dtype)  # Should show datetime64[ns]"
      ],
      "metadata": {
        "colab": {
          "base_uri": "https://localhost:8080/"
        },
        "id": "ffL0ta7NdSyB",
        "outputId": "eb2e374a-a654-43e3-d849-3fc1d772db3f"
      },
      "execution_count": 28,
      "outputs": [
        {
          "output_type": "stream",
          "name": "stdout",
          "text": [
            "datetime64[ns]\n"
          ]
        }
      ]
    },
    {
      "cell_type": "markdown",
      "source": [
        "**Create new columns:**\n",
        "\n",
        "1.  **Day of the week.**\n",
        "\n",
        "2. **Day of the month.**\n",
        "\n",
        "3. **Month.**\n",
        "\n",
        "4. **Year.**\n",
        "\n",
        "5. **Season (Winter, Spring, Summer, Fall).**"
      ],
      "metadata": {
        "id": "Bnl2WbSIdemR"
      }
    },
    {
      "cell_type": "code",
      "source": [
        "# Convert the 'Date' column to datetime format if not already done\n",
        "df['Date'] = pd.to_datetime(df['Date'])\n",
        "\n",
        "# Create new columns\n",
        "df['Day of the Week'] = df['Date'].dt.day_name()  # Day of the week (e.g., Monday)\n",
        "df['Day of the Month'] = df['Date'].dt.day  # Day of the month (1-31)\n",
        "df['Month'] = df['Date'].dt.month  # Month (1-12)\n",
        "df['Year'] = df['Date'].dt.year  # Year (e.g., 2024)\n",
        "\n",
        "# Define a function to categorize seasons\n",
        "def get_season(month):\n",
        "    if month in [12, 1, 2]:\n",
        "        return 'Winter'\n",
        "    elif month in [3, 4, 5]:\n",
        "        return 'Spring'\n",
        "    elif month in [6, 7, 8]:\n",
        "        return 'Summer'\n",
        "    else:\n",
        "        return 'Fall'\n",
        "\n",
        "# Apply the function to the 'Month' column to create the 'Season' column\n",
        "df['Season'] = df['Month'].apply(get_season)\n",
        "\n",
        "# Display the updated DataFrame with the new columns\n",
        "print(df[['Date', 'Day of the Week', 'Day of the Month', 'Month', 'Year', 'Season']].head())\n"
      ],
      "metadata": {
        "colab": {
          "base_uri": "https://localhost:8080/"
        },
        "id": "E6EyHTnFd0gZ",
        "outputId": "6dbb1c45-8a51-4eb1-d1b2-f6288825e248"
      },
      "execution_count": 29,
      "outputs": [
        {
          "output_type": "stream",
          "name": "stdout",
          "text": [
            "        Date Day of the Week  Day of the Month  Month  Year  Season\n",
            "0 2023-11-24          Friday                24     11  2023    Fall\n",
            "1 2023-02-27          Monday                27      2  2023  Winter\n",
            "2 2023-01-13          Friday                13      1  2023  Winter\n",
            "3 2023-05-21          Sunday                21      5  2023  Spring\n",
            "4 2023-05-06        Saturday                 6      5  2023  Spring\n"
          ]
        }
      ]
    },
    {
      "cell_type": "markdown",
      "source": [
        "**Set the Order Date column as the DataFrame index.**"
      ],
      "metadata": {
        "id": "9OewUTg4eB4b"
      }
    },
    {
      "cell_type": "code",
      "source": [
        "# Convert the 'Date' column to datetime format if not already done\n",
        "df['Date'] = pd.to_datetime(df['Date'])\n",
        "\n",
        "# Set the 'Date' column as the index\n",
        "df = df.set_index('Date')\n",
        "\n",
        "# Display the updated DataFrame with the 'Date' as the index\n",
        "print(df.head())\n"
      ],
      "metadata": {
        "colab": {
          "base_uri": "https://localhost:8080/"
        },
        "id": "py4ON5VBeF3l",
        "outputId": "46784c80-4bee-488a-e3e0-cd411465cfb3"
      },
      "execution_count": 30,
      "outputs": [
        {
          "output_type": "stream",
          "name": "stdout",
          "text": [
            "            Transaction ID Customer ID  Gender  Age Product Category  \\\n",
            "Date                                                                   \n",
            "2023-11-24               1     CUST001    Male   34           Beauty   \n",
            "2023-02-27               2     CUST002  Female   26         Clothing   \n",
            "2023-01-13               3     CUST003    Male   50      Electronics   \n",
            "2023-05-21               4     CUST004    Male   37         Clothing   \n",
            "2023-05-06               5     CUST005    Male   30           Beauty   \n",
            "\n",
            "            Quantity  Price per Unit  Total Amount Day of the Week  \\\n",
            "Date                                                                 \n",
            "2023-11-24         3              50           150          Friday   \n",
            "2023-02-27         2             500          1000          Monday   \n",
            "2023-01-13         1              30            30          Friday   \n",
            "2023-05-21         1             500           500          Sunday   \n",
            "2023-05-06         2              50           100        Saturday   \n",
            "\n",
            "            Day of the Month  Month  Year  Season  \n",
            "Date                                               \n",
            "2023-11-24                24     11  2023    Fall  \n",
            "2023-02-27                27      2  2023  Winter  \n",
            "2023-01-13                13      1  2023  Winter  \n",
            "2023-05-21                21      5  2023  Spring  \n",
            "2023-05-06                 6      5  2023  Spring  \n"
          ]
        }
      ]
    },
    {
      "cell_type": "markdown",
      "source": [
        "#**5. Correlation Analysis**"
      ],
      "metadata": {
        "id": "aLnx8U3rz2Ft"
      }
    },
    {
      "cell_type": "markdown",
      "source": [
        "**Computing the correlation matrix for numerical columns.**"
      ],
      "metadata": {
        "id": "GEJP_TuGz7s7"
      }
    },
    {
      "cell_type": "code",
      "source": [
        "import pandas as pd\n",
        "\n",
        "# Load the dataset\n",
        "file_path = \"retail_sales_dataset.csv\"\n",
        "df = pd.read_csv(file_path)\n",
        "\n",
        "# Select only numerical columns for correlation analysis\n",
        "numerical_df = df.select_dtypes(include=['number'])  # Selects columns with numerical data types\n",
        "\n",
        "# Compute the correlation matrix for numerical columns\n",
        "correlation_matrix = numerical_df.corr()\n",
        "\n",
        "# Display the correlation matrix\n",
        "print(\"Correlation Matrix:\")\n",
        "print(correlation_matrix)"
      ],
      "metadata": {
        "colab": {
          "base_uri": "https://localhost:8080/"
        },
        "id": "GAGjuKUtz_Uj",
        "outputId": "9a113547-706a-4a49-d4ee-e340d62296af"
      },
      "execution_count": 2,
      "outputs": [
        {
          "output_type": "stream",
          "name": "stdout",
          "text": [
            "Correlation Matrix:\n",
            "                Transaction ID       Age  Quantity  Price per Unit  \\\n",
            "Transaction ID        1.000000  0.065191 -0.026623       -0.060837   \n",
            "Age                   0.065191  1.000000 -0.023737       -0.038423   \n",
            "Quantity             -0.026623 -0.023737  1.000000        0.017501   \n",
            "Price per Unit       -0.060837 -0.038423  0.017501        1.000000   \n",
            "Total Amount         -0.075034 -0.060568  0.373707        0.851925   \n",
            "\n",
            "                Total Amount  \n",
            "Transaction ID     -0.075034  \n",
            "Age                -0.060568  \n",
            "Quantity            0.373707  \n",
            "Price per Unit      0.851925  \n",
            "Total Amount        1.000000  \n"
          ]
        }
      ]
    },
    {
      "cell_type": "markdown",
      "source": [
        "** Visualizing the correlation matrix using a heatmap.**"
      ],
      "metadata": {
        "id": "bFFq5Y6l0oWF"
      }
    },
    {
      "cell_type": "code",
      "source": [
        "import seaborn as sns\n",
        "import matplotlib.pyplot as plt\n",
        "\n",
        "# Plot the correlation matrix as a heatmap\n",
        "plt.figure(figsize=(8, 6))\n",
        "sns.heatmap(correlation_matrix, annot=True, cmap='coolwarm', fmt=\".2f\")\n",
        "plt.title(\"Correlation Matrix Heatmap\")\n",
        "plt.show()\n"
      ],
      "metadata": {
        "colab": {
          "base_uri": "https://localhost:8080/",
          "height": 545
        },
        "id": "SaUIRfcj0nBY",
        "outputId": "bbcdd8a3-0689-4832-aa39-e7024c78ade2"
      },
      "execution_count": 3,
      "outputs": [
        {
          "output_type": "display_data",
          "data": {
            "text/plain": [
              "<Figure size 800x600 with 2 Axes>"
            ],
            "image/png": "[encoded data removed]"
          },
          "metadata": {}
        }
      ]
    },
    {
      "cell_type": "markdown",
      "source": [
        "**Identifing and explaining two key relationships from the heatmap.**"
      ],
      "metadata": {
        "id": "OK5EtpWE05xQ"
      }
    },
    {
      "cell_type": "code",
      "source": [
        "# Compute the correlation matrix for numerical columns only\n",
        "correlation_matrix = df.select_dtypes(include=['number']).corr()\n",
        "\n",
        "# Plot the heatmap\n",
        "plt.figure(figsize=(8, 6))\n",
        "sns.heatmap(correlation_matrix, annot=True, cmap='coolwarm', fmt=\".2f\")\n",
        "plt.title(\"Correlation Matrix Heatmap\")\n",
        "plt.show()\n",
        "\n",
        "# Identify two key relationships\n",
        "key_relationships = correlation_matrix.unstack().sort_values(ascending=False)\n",
        "\n",
        "# Exclude self-correlations\n",
        "key_relationships = key_relationships[key_relationships < 1]\n",
        "\n",
        "# Display the top two strongest correlations\n",
        "print(\"Top 2 Key Relationships:\")\n",
        "print(key_relationships.head(2))"
      ],
      "metadata": {
        "colab": {
          "base_uri": "https://localhost:8080/",
          "height": 614
        },
        "id": "mZTYtwf91Se6",
        "outputId": "552ab0f3-fd4e-4ede-b3e4-d191502e9fb9"
      },
      "execution_count": 6,
      "outputs": [
        {
          "output_type": "display_data",
          "data": {
            "text/plain": [
              "<Figure size 800x600 with 2 Axes>"
            ],
            "image/png": "[encoded data removed]"
          },
          "metadata": {}
        },
        {
          "output_type": "stream",
          "name": "stdout",
          "text": [
            "Top 2 Key Relationships:\n",
            "Price per Unit  Total Amount      0.851925\n",
            "Total Amount    Price per Unit    0.851925\n",
            "dtype: float64\n"
          ]
        }
      ]
    },
    {
      "cell_type": "markdown",
      "source": [
        "#**6. DataFrame Operations**"
      ],
      "metadata": {
        "id": "-5CvMD331rsa"
      }
    },
    {
      "cell_type": "markdown",
      "source": [
        "**Use loc to extract sales data for a specific date or range of dates.**"
      ],
      "metadata": {
        "id": "W8BrZW-51z3U"
      }
    },
    {
      "cell_type": "code",
      "source": [
        "# Convert the 'Date' column to datetime format if it's still a column\n",
        "if 'Date' in df.columns:\n",
        "    df['Date'] = pd.to_datetime(df['Date'])\n",
        "\n",
        "# Set the 'Date' column as the index for easier filtering (only if not already the index)\n",
        "if 'Date' in df.columns:\n",
        "    df.set_index('Date', inplace=True)\n",
        "\n",
        "# Sort the index (if it's not already sorted) to ensure it's monotonic\n",
        "df.sort_index(inplace=True)\n",
        "\n",
        "# Extract data for a specific date\n",
        "specific_date = '2023-05-15'  # Example date\n",
        "data_on_specific_date = df.loc[specific_date]\n",
        "\n",
        "print(f\"Data for {specific_date}:\")\n",
        "print(data_on_specific_date)\n",
        "\n",
        "# Extract data for a range of dates\n",
        "start_date = '2023-05-01'  # Start of range\n",
        "end_date = '2023-05-31'    # End of range\n",
        "\n",
        "# Use boolean indexing to select data within the date range\n",
        "data_in_date_range = df[(df.index >= start_date) & (df.index <= end_date)]\n",
        "\n",
        "print(f\"Data from {start_date} to {end_date}:\")\n",
        "print(data_in_date_range)"
      ],
      "metadata": {
        "colab": {
          "base_uri": "https://localhost:8080/"
        },
        "id": "QVcrd3hx13_x",
        "outputId": "35699384-2476-484e-9c6a-324bb3d9b690"
      },
      "execution_count": 10,
      "outputs": [
        {
          "output_type": "stream",
          "name": "stdout",
          "text": [
            "Data for 2023-05-15:\n",
            "            Transaction ID Customer ID  Gender  Age Product Category  \\\n",
            "Date                                                                   \n",
            "2023-05-15             123     CUST123  Female   40      Electronics   \n",
            "2023-05-15             425     CUST425  Female   55      Electronics   \n",
            "2023-05-15             164     CUST164  Female   47           Beauty   \n",
            "\n",
            "            Quantity  Price per Unit  Total Amount  \n",
            "Date                                                \n",
            "2023-05-15         2              30            60  \n",
            "2023-05-15         4              30           120  \n",
            "2023-05-15         3             500          1500  \n",
            "Data from 2023-05-01 to 2023-05-31:\n",
            "            Transaction ID Customer ID  Gender  Age Product Category  \\\n",
            "Date                                                                   \n",
            "2023-05-01             652     CUST652  Female   34           Beauty   \n",
            "2023-05-01             337     CUST337    Male   38         Clothing   \n",
            "2023-05-01             585     CUST585  Female   24         Clothing   \n",
            "2023-05-02             293     CUST293    Male   50      Electronics   \n",
            "2023-05-02             242     CUST242    Male   21         Clothing   \n",
            "...                    ...         ...     ...  ...              ...   \n",
            "2023-05-30             985     CUST985  Female   19      Electronics   \n",
            "2023-05-30             915     CUST915  Female   26           Beauty   \n",
            "2023-05-31             159     CUST159    Male   26         Clothing   \n",
            "2023-05-31              56     CUST056  Female   26         Clothing   \n",
            "2023-05-31             862     CUST862    Male   28      Electronics   \n",
            "\n",
            "            Quantity  Price per Unit  Total Amount  \n",
            "Date                                                \n",
            "2023-05-01         2              50           100  \n",
            "2023-05-01         1             500           500  \n",
            "2023-05-01         1              25            25  \n",
            "2023-05-02         3              30            90  \n",
            "2023-05-02         1              25            25  \n",
            "...              ...             ...           ...  \n",
            "2023-05-30         2              25            50  \n",
            "2023-05-30         3              30            90  \n",
            "2023-05-31         4              50           200  \n",
            "2023-05-31         3             300           900  \n",
            "2023-05-31         4             300          1200  \n",
            "\n",
            "[105 rows x 8 columns]\n"
          ]
        }
      ]
    },
    {
      "cell_type": "markdown",
      "source": [
        "**Use iloc to extract the first 10 rows of the dataset.**"
      ],
      "metadata": {
        "id": "RCLXe6rW2eV2"
      }
    },
    {
      "cell_type": "code",
      "source": [
        "# Extract the first 10 rows using iloc\n",
        "first_10_rows = df.iloc[:10]\n",
        "\n",
        "# Display the extracted rows\n",
        "print(\"First 10 rows of the dataset:\")\n",
        "print(first_10_rows)\n"
      ],
      "metadata": {
        "colab": {
          "base_uri": "https://localhost:8080/"
        },
        "id": "3vtJU7eP2kae",
        "outputId": "7a08cb7e-80a2-4cfe-b85c-9c0840fd1356"
      },
      "execution_count": 11,
      "outputs": [
        {
          "output_type": "stream",
          "name": "stdout",
          "text": [
            "First 10 rows of the dataset:\n",
            "            Transaction ID Customer ID  Gender  Age Product Category  \\\n",
            "Date                                                                   \n",
            "2023-01-01             522     CUST522    Male   46           Beauty   \n",
            "2023-01-01             180     CUST180    Male   41         Clothing   \n",
            "2023-01-01             559     CUST559  Female   40         Clothing   \n",
            "2023-01-02             303     CUST303    Male   19      Electronics   \n",
            "2023-01-02             979     CUST979  Female   19           Beauty   \n",
            "2023-01-02             163     CUST163  Female   64         Clothing   \n",
            "2023-01-02             421     CUST421  Female   37         Clothing   \n",
            "2023-01-03             610     CUST610  Female   26           Beauty   \n",
            "2023-01-04             683     CUST683    Male   38           Beauty   \n",
            "2023-01-04             231     CUST231  Female   23         Clothing   \n",
            "\n",
            "            Quantity  Price per Unit  Total Amount  \n",
            "Date                                                \n",
            "2023-01-01         3             500          1500  \n",
            "2023-01-01         3             300           900  \n",
            "2023-01-01         4             300          1200  \n",
            "2023-01-02         3              30            90  \n",
            "2023-01-02         1              25            25  \n",
            "2023-01-02         3              50           150  \n",
            "2023-01-02         3             500          1500  \n",
            "2023-01-03         2             300           600  \n",
            "2023-01-04         2             500          1000  \n",
            "2023-01-04         3              50           150  \n"
          ]
        }
      ]
    },
    {
      "cell_type": "markdown",
      "source": [
        "**Drop a column (e.g., Region) using drop(axis=1).**"
      ],
      "metadata": {
        "id": "g3rduRM121gP"
      }
    },
    {
      "cell_type": "code",
      "source": [
        "# Drop the 'Gender' column (replace 'Gender' with the column you want to drop)\n",
        "df = df.drop('Gender', axis=1)\n",
        "\n",
        "# Display the updated DataFrame\n",
        "print(\"DataFrame after dropping the 'Gender' column:\")\n",
        "print(df.head())"
      ],
      "metadata": {
        "colab": {
          "base_uri": "https://localhost:8080/"
        },
        "id": "RBKs_jUV26yY",
        "outputId": "98f890a1-6f01-498e-ee18-21e146520609"
      },
      "execution_count": 12,
      "outputs": [
        {
          "output_type": "stream",
          "name": "stdout",
          "text": [
            "DataFrame after dropping the 'Gender' column:\n",
            "            Transaction ID Customer ID  Age Product Category  Quantity  \\\n",
            "Date                                                                     \n",
            "2023-01-01             522     CUST522   46           Beauty         3   \n",
            "2023-01-01             180     CUST180   41         Clothing         3   \n",
            "2023-01-01             559     CUST559   40         Clothing         4   \n",
            "2023-01-02             303     CUST303   19      Electronics         3   \n",
            "2023-01-02             979     CUST979   19           Beauty         1   \n",
            "\n",
            "            Price per Unit  Total Amount  \n",
            "Date                                      \n",
            "2023-01-01             500          1500  \n",
            "2023-01-01             300           900  \n",
            "2023-01-01             300          1200  \n",
            "2023-01-02              30            90  \n",
            "2023-01-02              25            25  \n"
          ]
        }
      ]
    },
    {
      "cell_type": "markdown",
      "source": [
        "**Drop the first two rows using drop(axis=0).**"
      ],
      "metadata": {
        "id": "Pp-Mig2u3MbH"
      }
    },
    {
      "cell_type": "code",
      "source": [
        "# Drop the first two rows based on the current index\n",
        "df = df.drop(index=df.index[:2])\n",
        "\n",
        "# Display the updated DataFrame\n",
        "print(\"DataFrame after dropping the first two rows:\")\n",
        "print(df.head())"
      ],
      "metadata": {
        "colab": {
          "base_uri": "https://localhost:8080/"
        },
        "id": "iEakPiur3X_3",
        "outputId": "6ce7d8d7-1ea7-463d-8f52-85c20ab0ce4b"
      },
      "execution_count": 14,
      "outputs": [
        {
          "output_type": "stream",
          "name": "stdout",
          "text": [
            "DataFrame after dropping the first two rows:\n",
            "            Transaction ID Customer ID  Age Product Category  Quantity  \\\n",
            "Date                                                                     \n",
            "2023-01-02             303     CUST303   19      Electronics         3   \n",
            "2023-01-02             979     CUST979   19           Beauty         1   \n",
            "2023-01-02             163     CUST163   64         Clothing         3   \n",
            "2023-01-02             421     CUST421   37         Clothing         3   \n",
            "2023-01-03             610     CUST610   26           Beauty         2   \n",
            "\n",
            "            Price per Unit  Total Amount  \n",
            "Date                                      \n",
            "2023-01-02              30            90  \n",
            "2023-01-02              25            25  \n",
            "2023-01-02              50           150  \n",
            "2023-01-02             500          1500  \n",
            "2023-01-03             300           600  \n"
          ]
        }
      ]
    },
    {
      "cell_type": "markdown",
      "source": [
        "#**7. Insights and Reporting**"
      ],
      "metadata": {
        "id": "Rc8Vs3f03iDs"
      }
    },
    {
      "cell_type": "markdown",
      "source": [
        "**Write a one-page summary of key insights from the analysis.**"
      ],
      "metadata": {
        "id": "4XzY_Ail3sBk"
      }
    },
    {
      "cell_type": "code",
      "source": [
        "# Basic Insights\n",
        "total_rows, total_columns = df.shape\n",
        "numerical_columns = df.select_dtypes(include=['number']).columns.tolist()\n",
        "categorical_columns = df.select_dtypes(exclude=['number']).columns.tolist()\n",
        "\n",
        "# Handle missing values\n",
        "missing_values = df.isnull().sum().sum()\n",
        "\n",
        "# Key metrics\n",
        "most_purchased_category = df['Product Category'].value_counts().idxmax()\n",
        "highest_sales_category = df.groupby('Product Category')['Total Amount'].sum().idxmax()\n",
        "total_sales = df['Total Amount'].sum()\n",
        "\n",
        "# Correlation analysis\n",
        "correlation_matrix = df.select_dtypes(include=['number']).corr() # Select only numerical columns for correlation calculation\n",
        "top_positive_correlation = correlation_matrix.unstack().sort_values(ascending=False).drop_duplicates().iloc[1]\n",
        "top_negative_correlation = correlation_matrix.unstack().sort_values().iloc[0]\n",
        "\n",
        "# Summary\n",
        "summary = f\"\"\"\n",
        "Data Analysis Summary:\n",
        "\n",
        "1. Dataset Overview:\n",
        "   - Total Rows: {total_rows}\n",
        "   - Total Columns: {total_columns}\n",
        "   - Numerical Columns: {', '.join(numerical_columns)}\n",
        "   - Categorical Columns: {', '.join(categorical_columns)}\n",
        "\n",
        "2. Missing Values:\n",
        "   - Total missing values in the dataset: {missing_values}\n",
        "\n",
        "3. Key Findings:\n",
        "   - The most frequently purchased product category is '{most_purchased_category}'.\n",
        "   - The product category contributing the most to sales is '{highest_sales_category}' with total sales of ${total_sales:,.2f}.\n",
        "   - The strongest positive correlation is {top_positive_correlation} between two features.\n",
        "   - The strongest negative correlation is {top_negative_correlation} between two features.\n",
        "\n",
        "4. Recommendations:\n",
        "   - Focus marketing efforts on the '{highest_sales_category}' category to further boost revenue.\n",
        "   - Investigate features with high negative correlation to understand potential trade-offs or limitations.\n",
        "   - Address any missing values for better data quality and analysis reliability.\n",
        "\n",
        "This summary highlights key insights derived from the analysis, which can guide business decisions.\n",
        "\"\"\"\n",
        "\n",
        "# Print the summary\n",
        "print(summary)\n"
      ],
      "metadata": {
        "colab": {
          "base_uri": "https://localhost:8080/"
        },
        "id": "vTSqdl1D3-xd",
        "outputId": "f31061f8-1cfd-45db-f44d-e8d7b784923d"
      },
      "execution_count": 16,
      "outputs": [
        {
          "output_type": "stream",
          "name": "stdout",
          "text": [
            "\n",
            "Data Analysis Summary:\n",
            "\n",
            "1. Dataset Overview:\n",
            "   - Total Rows: 997\n",
            "   - Total Columns: 7\n",
            "   - Numerical Columns: Transaction ID, Age, Quantity, Price per Unit, Total Amount\n",
            "   - Categorical Columns: Customer ID, Product Category\n",
            "\n",
            "2. Missing Values:\n",
            "   - Total missing values in the dataset: 0\n",
            "\n",
            "3. Key Findings:\n",
            "   - The most frequently purchased product category is 'Clothing'.\n",
            "   - The product category contributing the most to sales is 'Electronics' with total sales of $452,400.00.\n",
            "   - The strongest positive correlation is 0.851486871162336 between two features.\n",
            "   - The strongest negative correlation is -0.07482706410121492 between two features.\n",
            "\n",
            "4. Recommendations:\n",
            "   - Focus marketing efforts on the 'Electronics' category to further boost revenue.\n",
            "   - Investigate features with high negative correlation to understand potential trade-offs or limitations.\n",
            "   - Address any missing values for better data quality and analysis reliability.\n",
            "\n",
            "This summary highlights key insights derived from the analysis, which can guide business decisions.\n",
            "\n"
          ]
        }
      ]
    },
    {
      "cell_type": "markdown",
      "source": [
        "\n",
        "***Highlight recommendations for improving sales based on your findings. ***"
      ],
      "metadata": {
        "id": "yN3t5l804WX4"
      }
    },
    {
      "cell_type": "code",
      "source": [
        "# Basic Insights\n",
        "total_rows, total_columns = df.shape\n",
        "numerical_columns = df.select_dtypes(include=['number']).columns.tolist()\n",
        "categorical_columns = df.select_dtypes(exclude=['number']).columns.tolist()\n",
        "\n",
        "# Handle missing values\n",
        "missing_values = df.isnull().sum().sum()\n",
        "\n",
        "# Key metrics\n",
        "most_purchased_category = df['Product Category'].value_counts().idxmax()\n",
        "highest_sales_category = df.groupby('Product Category')['Total Amount'].sum().idxmax()\n",
        "total_sales = df['Total Amount'].sum()\n",
        "\n",
        "# Correlation analysis\n",
        "correlation_matrix = df.select_dtypes(include=['number']).corr() # Select only numerical columns for correlation calculation\n",
        "top_positive_correlation = correlation_matrix.unstack().sort_values(ascending=False).drop_duplicates().iloc[1]\n",
        "top_negative_correlation = correlation_matrix.unstack().sort_values().iloc[0]\n",
        "\n",
        "# Summary\n",
        "summary = f\"\"\"\n",
        "Data Analysis Summary:\n",
        "\n",
        "1. Dataset Overview:\n",
        "   - Total Rows: {total_rows}\n",
        "   - Total Columns: {total_columns}\n",
        "   - Numerical Columns: {', '.join(numerical_columns)}\n",
        "   - Categorical Columns: {', '.join(categorical_columns)}\n",
        "\n",
        "2. Missing Values:\n",
        "   - Total missing values in the dataset: {missing_values}\n",
        "\n",
        "3. Key Findings:\n",
        "   - The most frequently purchased product category is '{most_purchased_category}'.\n",
        "   - The product category contributing the most to sales is '{highest_sales_category}' with total sales of ${total_sales:,.2f}.\n",
        "   - The strongest positive correlation is {top_positive_correlation} between two features.\n",
        "   - The strongest negative correlation is {top_negative_correlation} between two features.\n",
        "\n",
        "4. Recommendations:\n",
        "   - Focus marketing efforts on the '{highest_sales_category}' category to further boost revenue.\n",
        "   - Investigate features with high negative correlation to understand potential trade-offs or limitations.\n",
        "   - Address any missing values for better data quality and analysis reliability.\n",
        "\n",
        "This summary highlights key insights derived from the analysis, which can guide business decisions.\n",
        "\"\"\"\n",
        "\n",
        "# Print the summary\n",
        "print(summary)\n"
      ],
      "metadata": {
        "colab": {
          "base_uri": "https://localhost:8080/"
        },
        "id": "_-RxtDZQ4fiQ",
        "outputId": "01294e7f-dc5a-4fbc-cc3f-7f2436f14ddd"
      },
      "execution_count": 18,
      "outputs": [
        {
          "output_type": "stream",
          "name": "stdout",
          "text": [
            "\n",
            "Data Analysis Summary:\n",
            "\n",
            "1. Dataset Overview:\n",
            "   - Total Rows: 997\n",
            "   - Total Columns: 7\n",
            "   - Numerical Columns: Transaction ID, Age, Quantity, Price per Unit, Total Amount\n",
            "   - Categorical Columns: Customer ID, Product Category\n",
            "\n",
            "2. Missing Values:\n",
            "   - Total missing values in the dataset: 0\n",
            "\n",
            "3. Key Findings:\n",
            "   - The most frequently purchased product category is 'Clothing'.\n",
            "   - The product category contributing the most to sales is 'Electronics' with total sales of $452,400.00.\n",
            "   - The strongest positive correlation is 0.851486871162336 between two features.\n",
            "   - The strongest negative correlation is -0.07482706410121492 between two features.\n",
            "\n",
            "4. Recommendations:\n",
            "   - Focus marketing efforts on the 'Electronics' category to further boost revenue.\n",
            "   - Investigate features with high negative correlation to understand potential trade-offs or limitations.\n",
            "   - Address any missing values for better data quality and analysis reliability.\n",
            "\n",
            "This summary highlights key insights derived from the analysis, which can guide business decisions.\n",
            "\n"
          ]
        }
      ]
    }
  ]
}
